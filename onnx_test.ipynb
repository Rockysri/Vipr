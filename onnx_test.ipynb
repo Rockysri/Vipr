{
  "nbformat": 4,
  "nbformat_minor": 0,
  "metadata": {
    "colab": {
      "provenance": [],
      "mount_file_id": "1qVWVqcfEGyenTgBmnkzU7KP1Xz7cCqfF",
      "authorship_tag": "ABX9TyPl2rn+wjacJASBU1pmU7D+",
      "include_colab_link": true
    },
    "kernelspec": {
      "name": "python3",
      "display_name": "Python 3"
    },
    "language_info": {
      "name": "python"
    }
  },
  "cells": [
    {
      "cell_type": "markdown",
      "metadata": {
        "id": "view-in-github",
        "colab_type": "text"
      },
      "source": [
        "<a href=\"https://colab.research.google.com/github/rocky-557/rocky-557.github.io/blob/main/onnx_test.ipynb\" target=\"_parent\"><img src=\"https://colab.research.google.com/assets/colab-badge.svg\" alt=\"Open In Colab\"/></a>"
      ]
    },
    {
      "cell_type": "code",
      "execution_count": 5,
      "metadata": {
        "colab": {
          "base_uri": "https://localhost:8080/"
        },
        "id": "Uj7d2PZ9WiNT",
        "outputId": "2f5908c4-f9f4-47fb-b5f1-35238411f384"
      },
      "outputs": [
        {
          "output_type": "stream",
          "name": "stdout",
          "text": [
            "Requirement already satisfied: onnx in /usr/local/lib/python3.10/dist-packages (1.15.0)\n",
            "Requirement already satisfied: numpy in /usr/local/lib/python3.10/dist-packages (from onnx) (1.23.5)\n",
            "Requirement already satisfied: protobuf>=3.20.2 in /usr/local/lib/python3.10/dist-packages (from onnx) (3.20.3)\n"
          ]
        }
      ],
      "source": [
        "!pip3 install onnx"
      ]
    },
    {
      "cell_type": "code",
      "source": [
        "!pip3 install onnxruntime\n",
        "import onnxruntime\n",
        "import onnx\n",
        "opt_session = onnxruntime.SessionOptions()\n",
        "opt_session.enable_mem_pattern = False\n",
        "opt_session.enable_cpu_mem_arena = False\n",
        "opt_session.graph_optimization_level = onnxruntime.GraphOptimizationLevel.ORT_DISABLE_ALL\n"
      ],
      "metadata": {
        "colab": {
          "base_uri": "https://localhost:8080/"
        },
        "id": "IH5KfTwJWrrE",
        "outputId": "233ab6db-5206-455a-e8b5-ac73a6b86e4c"
      },
      "execution_count": 15,
      "outputs": [
        {
          "output_type": "stream",
          "name": "stdout",
          "text": [
            "Requirement already satisfied: onnxruntime in /usr/local/lib/python3.10/dist-packages (1.16.3)\n",
            "Requirement already satisfied: coloredlogs in /usr/local/lib/python3.10/dist-packages (from onnxruntime) (15.0.1)\n",
            "Requirement already satisfied: flatbuffers in /usr/local/lib/python3.10/dist-packages (from onnxruntime) (23.5.26)\n",
            "Requirement already satisfied: numpy>=1.21.6 in /usr/local/lib/python3.10/dist-packages (from onnxruntime) (1.23.5)\n",
            "Requirement already satisfied: packaging in /usr/local/lib/python3.10/dist-packages (from onnxruntime) (23.2)\n",
            "Requirement already satisfied: protobuf in /usr/local/lib/python3.10/dist-packages (from onnxruntime) (3.20.3)\n",
            "Requirement already satisfied: sympy in /usr/local/lib/python3.10/dist-packages (from onnxruntime) (1.12)\n",
            "Requirement already satisfied: humanfriendly>=9.1 in /usr/local/lib/python3.10/dist-packages (from coloredlogs->onnxruntime) (10.0)\n",
            "Requirement already satisfied: mpmath>=0.19 in /usr/local/lib/python3.10/dist-packages (from sympy->onnxruntime) (1.3.0)\n"
          ]
        }
      ]
    },
    {
      "cell_type": "code",
      "source": [
        "\n",
        "modelpth=\"/content/drive/MyDrive/yolov8n.onnx\"\n",
        "EP_list = ['AzureExecutionProvider', 'CPUExecutionProvider']\n",
        "\n",
        "ort_session = onnxruntime.InferenceSession(modelpth, providers=EP_list)"
      ],
      "metadata": {
        "id": "7tHLDxSMYZMh"
      },
      "execution_count": 16,
      "outputs": []
    },
    {
      "cell_type": "code",
      "source": [
        "model_inputs = ort_session.get_inputs()\n",
        "input_names = [model_inputs[i].name for i in range(len(model_inputs))]\n",
        "input_shape = model_inputs[0].shape\n",
        "input_shape"
      ],
      "metadata": {
        "colab": {
          "base_uri": "https://localhost:8080/"
        },
        "id": "JjOI9Kg2YqcJ",
        "outputId": "b9dcd4fc-532d-417f-bb76-1257f5aace16"
      },
      "execution_count": 17,
      "outputs": [
        {
          "output_type": "execute_result",
          "data": {
            "text/plain": [
              "['batch', 3, 'height', 'width']"
            ]
          },
          "metadata": {},
          "execution_count": 17
        }
      ]
    },
    {
      "cell_type": "code",
      "source": [
        "model_output = ort_session.get_outputs()\n",
        "output_names = [model_output[i].name for i in range(len(model_output))]"
      ],
      "metadata": {
        "id": "bCDP7GrpZrRz"
      },
      "execution_count": 18,
      "outputs": []
    },
    {
      "cell_type": "code",
      "source": [
        "import cv2\n",
        "import numpy as np\n",
        "from PIL import Image\n",
        "\n",
        "image = cv2.imread('bus.jpg')\n",
        "image_height, image_width = image.shape[:2]\n",
        "Image.fromarray(cv2.cvtColor(image, cv2.COLOR_BGR2RGB))"
      ],
      "metadata": {
        "colab": {
          "base_uri": "https://localhost:8080/",
          "height": 236
        },
        "id": "65Ukmi-BZr1c",
        "outputId": "b0c796eb-6fdb-4667-ed07-0f0673e49526"
      },
      "execution_count": 19,
      "outputs": [
        {
          "output_type": "error",
          "ename": "AttributeError",
          "evalue": "'NoneType' object has no attribute 'shape'",
          "traceback": [
            "\u001b[0;31m---------------------------------------------------------------------------\u001b[0m",
            "\u001b[0;31mAttributeError\u001b[0m                            Traceback (most recent call last)",
            "\u001b[0;32m<ipython-input-19-ad554ea422b4>\u001b[0m in \u001b[0;36m<cell line: 6>\u001b[0;34m()\u001b[0m\n\u001b[1;32m      4\u001b[0m \u001b[0;34m\u001b[0m\u001b[0m\n\u001b[1;32m      5\u001b[0m \u001b[0mimage\u001b[0m \u001b[0;34m=\u001b[0m \u001b[0mcv2\u001b[0m\u001b[0;34m.\u001b[0m\u001b[0mimread\u001b[0m\u001b[0;34m(\u001b[0m\u001b[0;34m'bus.jpg'\u001b[0m\u001b[0;34m)\u001b[0m\u001b[0;34m\u001b[0m\u001b[0;34m\u001b[0m\u001b[0m\n\u001b[0;32m----> 6\u001b[0;31m \u001b[0mimage_height\u001b[0m\u001b[0;34m,\u001b[0m \u001b[0mimage_width\u001b[0m \u001b[0;34m=\u001b[0m \u001b[0mimage\u001b[0m\u001b[0;34m.\u001b[0m\u001b[0mshape\u001b[0m\u001b[0;34m[\u001b[0m\u001b[0;34m:\u001b[0m\u001b[0;36m2\u001b[0m\u001b[0;34m]\u001b[0m\u001b[0;34m\u001b[0m\u001b[0;34m\u001b[0m\u001b[0m\n\u001b[0m\u001b[1;32m      7\u001b[0m \u001b[0mImage\u001b[0m\u001b[0;34m.\u001b[0m\u001b[0mfromarray\u001b[0m\u001b[0;34m(\u001b[0m\u001b[0mcv2\u001b[0m\u001b[0;34m.\u001b[0m\u001b[0mcvtColor\u001b[0m\u001b[0;34m(\u001b[0m\u001b[0mimage\u001b[0m\u001b[0;34m,\u001b[0m \u001b[0mcv2\u001b[0m\u001b[0;34m.\u001b[0m\u001b[0mCOLOR_BGR2RGB\u001b[0m\u001b[0;34m)\u001b[0m\u001b[0;34m)\u001b[0m\u001b[0;34m\u001b[0m\u001b[0;34m\u001b[0m\u001b[0m\n",
            "\u001b[0;31mAttributeError\u001b[0m: 'NoneType' object has no attribute 'shape'"
          ]
        }
      ]
    },
    {
      "cell_type": "code",
      "source": [
        "input_height, input_width = input_shape[2:]\n",
        "image_rgb = cv2.cvtColor(image, cv2.COLOR_BGR2RGB)\n",
        "resized = cv2.resize(image_rgb, (input_width, input_height))\n",
        "\n",
        "# Scale input pixel value to 0 to 1\n",
        "input_image = resized / 255.0\n",
        "input_image = input_image.transpose(2,0,1)\n",
        "input_tensor = input_image[np.newaxis, :, :, :].astype(np.float32)\n",
        "input_tensor.shape"
      ],
      "metadata": {
        "id": "6drN1PdAZvnd"
      },
      "execution_count": 19,
      "outputs": []
    },
    {
      "cell_type": "code",
      "source": [
        "outputs = ort_session.run(output_names, {input_names[0]: input_tensor})[0]"
      ],
      "metadata": {
        "id": "-NINJBj1Z7Bh"
      },
      "execution_count": null,
      "outputs": []
    },
    {
      "cell_type": "code",
      "source": [
        "predictions = np.squeeze(outputs).T\n",
        "conf_thresold = 0.8\n",
        "# Filter out object confidence scores below threshold\n",
        "scores = np.max(predictions[:, 4:], axis=1)\n",
        "predictions = predictions[scores > conf_thresold, :]\n",
        "scores = scores[scores > conf_thresold]"
      ],
      "metadata": {
        "id": "d6lOOHjyaClH"
      },
      "execution_count": null,
      "outputs": []
    },
    {
      "cell_type": "code",
      "source": [
        "class_ids = np.argmax(predictions[:, 4:], axis=1)"
      ],
      "metadata": {
        "id": "Tm0ET5_EaDfv"
      },
      "execution_count": null,
      "outputs": []
    },
    {
      "cell_type": "code",
      "source": [
        "# Get bounding boxes for each object\n",
        "boxes = predictions[:, :4]\n",
        "\n",
        "#rescale box\n",
        "input_shape = np.array([input_width, input_height, input_width, input_height])\n",
        "boxes = np.divide(boxes, input_shape, dtype=np.float32)\n",
        "boxes *= np.array([image_width, image_height, image_width, image_height])\n",
        "boxes = boxes.astype(np.int32)\n",
        "boxes"
      ],
      "metadata": {
        "id": "kWTMAI8AaHyz"
      },
      "execution_count": null,
      "outputs": []
    },
    {
      "cell_type": "code",
      "source": [
        "def nms(boxes, scores, iou_threshold):\n",
        "    # Sort by score\n",
        "    sorted_indices = np.argsort(scores)[::-1]\n",
        "\n",
        "    keep_boxes = []\n",
        "    while sorted_indices.size > 0:\n",
        "        # Pick the last box\n",
        "        box_id = sorted_indices[0]\n",
        "        keep_boxes.append(box_id)\n",
        "\n",
        "        # Compute IoU of the picked box with the rest\n",
        "        ious = compute_iou(boxes[box_id, :], boxes[sorted_indices[1:], :])\n",
        "\n",
        "        # Remove boxes with IoU over the threshold\n",
        "        keep_indices = np.where(ious < iou_threshold)[0]\n",
        "\n",
        "        # print(keep_indices.shape, sorted_indices.shape)\n",
        "        sorted_indices = sorted_indices[keep_indices + 1]\n",
        "\n",
        "    return keep_boxes\n",
        "\n",
        "def compute_iou(box, boxes):\n",
        "    # Compute xmin, ymin, xmax, ymax for both boxes\n",
        "    xmin = np.maximum(box[0], boxes[:, 0])\n",
        "    ymin = np.maximum(box[1], boxes[:, 1])\n",
        "    xmax = np.minimum(box[2], boxes[:, 2])\n",
        "    ymax = np.minimum(box[3], boxes[:, 3])\n",
        "\n",
        "    # Compute intersection area\n",
        "    intersection_area = np.maximum(0, xmax - xmin) * np.maximum(0, ymax - ymin)\n",
        "\n",
        "    # Compute union area\n",
        "    box_area = (box[2] - box[0]) * (box[3] - box[1])\n",
        "    boxes_area = (boxes[:, 2] - boxes[:, 0]) * (boxes[:, 3] - boxes[:, 1])\n",
        "    union_area = box_area + boxes_area - intersection_area\n",
        "\n",
        "    # Compute IoU\n",
        "    iou = intersection_area / union_area\n",
        "\n",
        "    return iou\n",
        "\n",
        "# Apply non-maxima suppression to suppress weak, overlapping bounding boxes\n",
        "indices = nms(boxes, scores, 0.3)"
      ],
      "metadata": {
        "id": "xGtDai4FaKkx"
      },
      "execution_count": null,
      "outputs": []
    },
    {
      "cell_type": "code",
      "source": [
        "# Define classes\n",
        "CLASSES = [\n",
        " 'person', 'bicycle', 'car', 'motorcycle', 'airplane', 'bus', 'train', 'truck', 'boat',\n",
        " 'traffic light', 'fire hydrant', 'street sign', 'stop sign', 'parking meter', 'bench', 'bird', 'cat',\n",
        " 'dog', 'horse', 'sheep', 'cow', 'elephant', 'bear', 'zebra', 'giraffe', 'hat', 'backpack', 'umbrella',\n",
        " 'shoe', 'eye glasses', 'handbag', 'tie', 'suitcase', 'frisbee', 'skis', 'snowboard', 'sports ball',\n",
        " 'kite', 'baseball bat', 'baseball glove', 'skateboard', 'surfboard', 'tennis racket', 'bottle', 'plate',\n",
        " 'wine glass', 'cup', 'fork', 'knife', 'spoon', 'bowl', 'banana', 'apple', 'sandwich', 'orange', 'broccoli',\n",
        " 'carrot', 'hot dog', 'pizza', 'donut', 'cake', 'chair', 'couch', 'potted plant', 'bed', 'mirror',\n",
        " 'dining table', 'window', 'desk', 'toilet', 'door', 'tv', 'laptop', 'mouse', 'remote', 'keyboard',\n",
        " 'cell phone', 'microwave', 'oven', 'toaster', 'sink', 'refrigerator', 'blender', 'book', 'clock', 'vase',\n",
        " 'scissors', 'teddy bear', 'hair drier', 'toothbrush'\n",
        "]"
      ],
      "metadata": {
        "id": "E0mSxsoTaXOx"
      },
      "execution_count": 20,
      "outputs": []
    },
    {
      "cell_type": "code",
      "source": [
        "def xywh2xyxy(x):\n",
        "    # Convert bounding box (x, y, w, h) to bounding box (x1, y1, x2, y2)\n",
        "    y = np.copy(x)\n",
        "    y[..., 0] = x[..., 0] - x[..., 2] / 2\n",
        "    y[..., 1] = x[..., 1] - x[..., 3] / 2\n",
        "    y[..., 2] = x[..., 0] + x[..., 2] / 2\n",
        "    y[..., 3] = x[..., 1] + x[..., 3] / 2\n",
        "    return y"
      ],
      "metadata": {
        "id": "EgdnJa0NacXj"
      },
      "execution_count": null,
      "outputs": []
    },
    {
      "cell_type": "code",
      "source": [
        "image_draw = image.copy()\n",
        "for (bbox, score, label) in zip(xywh2xyxy(boxes[indices]), scores[indices], class_ids[indices]):\n",
        "    bbox = bbox.round().astype(np.int32).tolist()\n",
        "    cls_id = int(label)\n",
        "    cls = CLASSES[cls_id]\n",
        "    color = (0,255,0)\n",
        "    cv2.rectangle(image_draw, tuple(bbox[:2]), tuple(bbox[2:]), color, 2)\n",
        "    cv2.putText(image_draw,\n",
        "                f'{cls}:{int(score*100)}', (bbox[0], bbox[1] - 2),\n",
        "                cv2.FONT_HERSHEY_SIMPLEX,\n",
        "                0.60, [225, 255, 255],\n",
        "                thickness=1)"
      ],
      "metadata": {
        "id": "8Ll2qdJ3aflo"
      },
      "execution_count": null,
      "outputs": []
    }
  ]
}